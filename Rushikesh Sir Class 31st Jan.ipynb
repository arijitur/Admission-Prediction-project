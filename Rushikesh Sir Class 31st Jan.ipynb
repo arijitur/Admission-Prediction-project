{
 "cells": [
  {
   "cell_type": "code",
   "execution_count": 351,
   "id": "2cbd59ce",
   "metadata": {},
   "outputs": [],
   "source": [
    "import pandas as pd\n",
    "from sklearn.datasets import make_regression\n",
    "import matplotlib.pyplot as plt\n",
    "import numpy as np\n",
    "import warnings\n",
    "warnings.filterwarnings(action=\"ignore\")"
   ]
  },
  {
   "cell_type": "code",
   "execution_count": 352,
   "id": "8bee7c35",
   "metadata": {},
   "outputs": [],
   "source": [
    "df = pd.read_csv(\"Admission_Prediction.csv\")"
   ]
  },
  {
   "cell_type": "code",
   "execution_count": 353,
   "id": "caacc716",
   "metadata": {},
   "outputs": [
    {
     "data": {
      "text/html": [
       "<div>\n",
       "<style scoped>\n",
       "    .dataframe tbody tr th:only-of-type {\n",
       "        vertical-align: middle;\n",
       "    }\n",
       "\n",
       "    .dataframe tbody tr th {\n",
       "        vertical-align: top;\n",
       "    }\n",
       "\n",
       "    .dataframe thead th {\n",
       "        text-align: right;\n",
       "    }\n",
       "</style>\n",
       "<table border=\"1\" class=\"dataframe\">\n",
       "  <thead>\n",
       "    <tr style=\"text-align: right;\">\n",
       "      <th></th>\n",
       "      <th>Serial No.</th>\n",
       "      <th>GRE Score</th>\n",
       "      <th>TOEFL Score</th>\n",
       "      <th>University Rating</th>\n",
       "      <th>SOP</th>\n",
       "      <th>LOR</th>\n",
       "      <th>CGPA</th>\n",
       "      <th>Research</th>\n",
       "      <th>Chance of Admit</th>\n",
       "    </tr>\n",
       "  </thead>\n",
       "  <tbody>\n",
       "    <tr>\n",
       "      <th>0</th>\n",
       "      <td>1</td>\n",
       "      <td>337.0</td>\n",
       "      <td>118.0</td>\n",
       "      <td>4.0</td>\n",
       "      <td>4.5</td>\n",
       "      <td>4.5</td>\n",
       "      <td>9.65</td>\n",
       "      <td>1</td>\n",
       "      <td>0.92</td>\n",
       "    </tr>\n",
       "    <tr>\n",
       "      <th>1</th>\n",
       "      <td>2</td>\n",
       "      <td>324.0</td>\n",
       "      <td>107.0</td>\n",
       "      <td>4.0</td>\n",
       "      <td>4.0</td>\n",
       "      <td>4.5</td>\n",
       "      <td>8.87</td>\n",
       "      <td>1</td>\n",
       "      <td>0.76</td>\n",
       "    </tr>\n",
       "    <tr>\n",
       "      <th>2</th>\n",
       "      <td>3</td>\n",
       "      <td>NaN</td>\n",
       "      <td>104.0</td>\n",
       "      <td>3.0</td>\n",
       "      <td>3.0</td>\n",
       "      <td>3.5</td>\n",
       "      <td>8.00</td>\n",
       "      <td>1</td>\n",
       "      <td>0.72</td>\n",
       "    </tr>\n",
       "    <tr>\n",
       "      <th>3</th>\n",
       "      <td>4</td>\n",
       "      <td>322.0</td>\n",
       "      <td>110.0</td>\n",
       "      <td>3.0</td>\n",
       "      <td>3.5</td>\n",
       "      <td>2.5</td>\n",
       "      <td>8.67</td>\n",
       "      <td>1</td>\n",
       "      <td>0.80</td>\n",
       "    </tr>\n",
       "    <tr>\n",
       "      <th>4</th>\n",
       "      <td>5</td>\n",
       "      <td>314.0</td>\n",
       "      <td>103.0</td>\n",
       "      <td>2.0</td>\n",
       "      <td>2.0</td>\n",
       "      <td>3.0</td>\n",
       "      <td>8.21</td>\n",
       "      <td>0</td>\n",
       "      <td>0.65</td>\n",
       "    </tr>\n",
       "  </tbody>\n",
       "</table>\n",
       "</div>"
      ],
      "text/plain": [
       "   Serial No.  GRE Score  TOEFL Score  University Rating  SOP  LOR  CGPA  \\\n",
       "0           1      337.0        118.0                4.0  4.5  4.5  9.65   \n",
       "1           2      324.0        107.0                4.0  4.0  4.5  8.87   \n",
       "2           3        NaN        104.0                3.0  3.0  3.5  8.00   \n",
       "3           4      322.0        110.0                3.0  3.5  2.5  8.67   \n",
       "4           5      314.0        103.0                2.0  2.0  3.0  8.21   \n",
       "\n",
       "   Research  Chance of Admit  \n",
       "0         1             0.92  \n",
       "1         1             0.76  \n",
       "2         1             0.72  \n",
       "3         1             0.80  \n",
       "4         0             0.65  "
      ]
     },
     "execution_count": 353,
     "metadata": {},
     "output_type": "execute_result"
    }
   ],
   "source": [
    "df.head(5)"
   ]
  },
  {
   "cell_type": "code",
   "execution_count": 354,
   "id": "544da4fe",
   "metadata": {},
   "outputs": [],
   "source": [
    "df['University Rating'] = pd.to_numeric(df['University Rating'], errors='coerce')"
   ]
  },
  {
   "cell_type": "code",
   "execution_count": 355,
   "id": "e0574c5a",
   "metadata": {},
   "outputs": [],
   "source": [
    "df['TOEFL Score'] = pd.to_numeric(df['TOEFL Score'], errors='coerce')"
   ]
  },
  {
   "cell_type": "code",
   "execution_count": 356,
   "id": "a8fcb53f",
   "metadata": {},
   "outputs": [],
   "source": [
    "df['GRE Score'] = pd.to_numeric(df['GRE Score'], errors='coerce')"
   ]
  },
  {
   "cell_type": "code",
   "execution_count": 273,
   "id": "e161df8b",
   "metadata": {},
   "outputs": [
    {
     "name": "stdout",
     "output_type": "stream",
     "text": [
      "<class 'pandas.core.frame.DataFrame'>\n",
      "RangeIndex: 500 entries, 0 to 499\n",
      "Data columns (total 9 columns):\n",
      " #   Column             Non-Null Count  Dtype  \n",
      "---  ------             --------------  -----  \n",
      " 0   Serial No.         500 non-null    int64  \n",
      " 1   GRE Score          485 non-null    float64\n",
      " 2   TOEFL Score        490 non-null    float64\n",
      " 3   University Rating  485 non-null    float64\n",
      " 4   SOP                500 non-null    float64\n",
      " 5   LOR                500 non-null    float64\n",
      " 6   CGPA               500 non-null    float64\n",
      " 7   Research           500 non-null    int64  \n",
      " 8   Chance of Admit    500 non-null    float64\n",
      "dtypes: float64(7), int64(2)\n",
      "memory usage: 35.3 KB\n"
     ]
    }
   ],
   "source": [
    "df.info()"
   ]
  },
  {
   "cell_type": "code",
   "execution_count": null,
   "id": "f3c1a8e0",
   "metadata": {},
   "outputs": [],
   "source": []
  },
  {
   "cell_type": "code",
   "execution_count": 358,
   "id": "4d1c696e",
   "metadata": {},
   "outputs": [
    {
     "data": {
      "text/plain": [
       "Serial No.           0\n",
       "GRE Score            0\n",
       "TOEFL Score          0\n",
       "University Rating    0\n",
       "SOP                  0\n",
       "LOR                  0\n",
       "CGPA                 0\n",
       "Research             0\n",
       "Chance of Admit      0\n",
       "dtype: int64"
      ]
     },
     "execution_count": 358,
     "metadata": {},
     "output_type": "execute_result"
    }
   ],
   "source": [
    "df.isnull().sum()"
   ]
  },
  {
   "cell_type": "code",
   "execution_count": 357,
   "id": "a72cf814",
   "metadata": {},
   "outputs": [],
   "source": [
    "df['GRE Score'].fillna(df['GRE Score'].mean(), inplace=True)\n",
    "df['TOEFL Score'].fillna(df['TOEFL Score'].mean(), inplace=True)\n",
    "df['University Rating'].fillna(df['University Rating'].mean(), inplace=True)\n"
   ]
  },
  {
   "cell_type": "code",
   "execution_count": 276,
   "id": "5baf404d",
   "metadata": {},
   "outputs": [
    {
     "data": {
      "text/html": [
       "<div>\n",
       "<style scoped>\n",
       "    .dataframe tbody tr th:only-of-type {\n",
       "        vertical-align: middle;\n",
       "    }\n",
       "\n",
       "    .dataframe tbody tr th {\n",
       "        vertical-align: top;\n",
       "    }\n",
       "\n",
       "    .dataframe thead th {\n",
       "        text-align: right;\n",
       "    }\n",
       "</style>\n",
       "<table border=\"1\" class=\"dataframe\">\n",
       "  <thead>\n",
       "    <tr style=\"text-align: right;\">\n",
       "      <th></th>\n",
       "      <th>Serial No.</th>\n",
       "      <th>GRE Score</th>\n",
       "      <th>TOEFL Score</th>\n",
       "      <th>University Rating</th>\n",
       "      <th>SOP</th>\n",
       "      <th>LOR</th>\n",
       "      <th>CGPA</th>\n",
       "      <th>Research</th>\n",
       "      <th>Chance of Admit</th>\n",
       "    </tr>\n",
       "  </thead>\n",
       "  <tbody>\n",
       "    <tr>\n",
       "      <th>count</th>\n",
       "      <td>500.000000</td>\n",
       "      <td>500.000000</td>\n",
       "      <td>500.000000</td>\n",
       "      <td>500.000000</td>\n",
       "      <td>500.000000</td>\n",
       "      <td>500.00000</td>\n",
       "      <td>500.000000</td>\n",
       "      <td>500.000000</td>\n",
       "      <td>500.00000</td>\n",
       "    </tr>\n",
       "    <tr>\n",
       "      <th>mean</th>\n",
       "      <td>250.500000</td>\n",
       "      <td>316.558763</td>\n",
       "      <td>107.187755</td>\n",
       "      <td>3.121649</td>\n",
       "      <td>3.374000</td>\n",
       "      <td>3.48400</td>\n",
       "      <td>8.576440</td>\n",
       "      <td>0.560000</td>\n",
       "      <td>0.72174</td>\n",
       "    </tr>\n",
       "    <tr>\n",
       "      <th>std</th>\n",
       "      <td>144.481833</td>\n",
       "      <td>11.103952</td>\n",
       "      <td>6.051338</td>\n",
       "      <td>1.128802</td>\n",
       "      <td>0.991004</td>\n",
       "      <td>0.92545</td>\n",
       "      <td>0.604813</td>\n",
       "      <td>0.496884</td>\n",
       "      <td>0.14114</td>\n",
       "    </tr>\n",
       "    <tr>\n",
       "      <th>min</th>\n",
       "      <td>1.000000</td>\n",
       "      <td>290.000000</td>\n",
       "      <td>92.000000</td>\n",
       "      <td>1.000000</td>\n",
       "      <td>1.000000</td>\n",
       "      <td>1.00000</td>\n",
       "      <td>6.800000</td>\n",
       "      <td>0.000000</td>\n",
       "      <td>0.34000</td>\n",
       "    </tr>\n",
       "    <tr>\n",
       "      <th>25%</th>\n",
       "      <td>125.750000</td>\n",
       "      <td>309.000000</td>\n",
       "      <td>103.000000</td>\n",
       "      <td>2.000000</td>\n",
       "      <td>2.500000</td>\n",
       "      <td>3.00000</td>\n",
       "      <td>8.127500</td>\n",
       "      <td>0.000000</td>\n",
       "      <td>0.63000</td>\n",
       "    </tr>\n",
       "    <tr>\n",
       "      <th>50%</th>\n",
       "      <td>250.500000</td>\n",
       "      <td>316.558763</td>\n",
       "      <td>107.000000</td>\n",
       "      <td>3.000000</td>\n",
       "      <td>3.500000</td>\n",
       "      <td>3.50000</td>\n",
       "      <td>8.560000</td>\n",
       "      <td>1.000000</td>\n",
       "      <td>0.72000</td>\n",
       "    </tr>\n",
       "    <tr>\n",
       "      <th>75%</th>\n",
       "      <td>375.250000</td>\n",
       "      <td>324.000000</td>\n",
       "      <td>112.000000</td>\n",
       "      <td>4.000000</td>\n",
       "      <td>4.000000</td>\n",
       "      <td>4.00000</td>\n",
       "      <td>9.040000</td>\n",
       "      <td>1.000000</td>\n",
       "      <td>0.82000</td>\n",
       "    </tr>\n",
       "    <tr>\n",
       "      <th>max</th>\n",
       "      <td>500.000000</td>\n",
       "      <td>340.000000</td>\n",
       "      <td>120.000000</td>\n",
       "      <td>5.000000</td>\n",
       "      <td>5.000000</td>\n",
       "      <td>5.00000</td>\n",
       "      <td>9.920000</td>\n",
       "      <td>1.000000</td>\n",
       "      <td>0.97000</td>\n",
       "    </tr>\n",
       "  </tbody>\n",
       "</table>\n",
       "</div>"
      ],
      "text/plain": [
       "       Serial No.   GRE Score  TOEFL Score  University Rating         SOP  \\\n",
       "count  500.000000  500.000000   500.000000         500.000000  500.000000   \n",
       "mean   250.500000  316.558763   107.187755           3.121649    3.374000   \n",
       "std    144.481833   11.103952     6.051338           1.128802    0.991004   \n",
       "min      1.000000  290.000000    92.000000           1.000000    1.000000   \n",
       "25%    125.750000  309.000000   103.000000           2.000000    2.500000   \n",
       "50%    250.500000  316.558763   107.000000           3.000000    3.500000   \n",
       "75%    375.250000  324.000000   112.000000           4.000000    4.000000   \n",
       "max    500.000000  340.000000   120.000000           5.000000    5.000000   \n",
       "\n",
       "             LOR        CGPA    Research  Chance of Admit  \n",
       "count  500.00000  500.000000  500.000000        500.00000  \n",
       "mean     3.48400    8.576440    0.560000          0.72174  \n",
       "std      0.92545    0.604813    0.496884          0.14114  \n",
       "min      1.00000    6.800000    0.000000          0.34000  \n",
       "25%      3.00000    8.127500    0.000000          0.63000  \n",
       "50%      3.50000    8.560000    1.000000          0.72000  \n",
       "75%      4.00000    9.040000    1.000000          0.82000  \n",
       "max      5.00000    9.920000    1.000000          0.97000  "
      ]
     },
     "execution_count": 276,
     "metadata": {},
     "output_type": "execute_result"
    }
   ],
   "source": [
    "df.describe()"
   ]
  },
  {
   "cell_type": "code",
   "execution_count": 359,
   "id": "1e0f08e6",
   "metadata": {},
   "outputs": [],
   "source": [
    "df.drop('Serial No.',axis =1,inplace = True)"
   ]
  },
  {
   "cell_type": "code",
   "execution_count": 278,
   "id": "f3f298b3",
   "metadata": {},
   "outputs": [],
   "source": [
    "import seaborn as sns\n",
    "import matplotlib.pyplot as plt"
   ]
  },
  {
   "cell_type": "code",
   "execution_count": 279,
   "id": "1c1d9c39",
   "metadata": {},
   "outputs": [
    {
     "data": {
      "image/png": "[encoded data removed]",
      "text/plain": [
       "<Figure size 640x480 with 1 Axes>"
      ]
     },
     "metadata": {},
     "output_type": "display_data"
    },
    {
     "data": {
      "image/png": "[encoded data removed]",
      "text/plain": [
       "<Figure size 640x480 with 1 Axes>"
      ]
     },
     "metadata": {},
     "output_type": "display_data"
    },
    {
     "data": {
      "image/png": "[encoded data removed]",
      "text/plain": [
       "<Figure size 640x480 with 1 Axes>"
      ]
     },
     "metadata": {},
     "output_type": "display_data"
    },
    {
     "data": {
      "image/png": "[encoded data removed]",
      "text/plain": [
       "<Figure size 640x480 with 1 Axes>"
      ]
     },
     "metadata": {},
     "output_type": "display_data"
    },
    {
     "data": {
      "image/png": "[encoded data removed]",
      "text/plain": [
       "<Figure size 640x480 with 1 Axes>"
      ]
     },
     "metadata": {},
     "output_type": "display_data"
    },
    {
     "data": {
      "image/png": "[encoded data removed]",
      "text/plain": [
       "<Figure size 640x480 with 1 Axes>"
      ]
     },
     "metadata": {},
     "output_type": "display_data"
    },
    {
     "data": {
      "image/png": "[encoded data removed]",
      "text/plain": [
       "<Figure size 640x480 with 1 Axes>"
      ]
     },
     "metadata": {},
     "output_type": "display_data"
    },
    {
     "data": {
      "image/png": "[encoded data removed]",
      "text/plain": [
       "<Figure size 640x480 with 1 Axes>"
      ]
     },
     "metadata": {},
     "output_type": "display_data"
    }
   ],
   "source": [
    "for column in df.columns:\n",
    "    sns.distplot(df[column])\n",
    "    plt.show()"
   ]
  },
  {
   "cell_type": "code",
   "execution_count": 360,
   "id": "01714dcd",
   "metadata": {},
   "outputs": [
    {
     "name": "stdout",
     "output_type": "stream",
     "text": [
      "             feature          VIF\n",
      "0          GRE Score  1275.596985\n",
      "1        TOEFL Score  1194.651453\n",
      "2  University Rating    20.686567\n",
      "3                SOP    34.449850\n",
      "4                LOR    30.951315\n",
      "5               CGPA   928.315950\n",
      "6           Research     2.879356\n"
     ]
    }
   ],
   "source": [
    "from statsmodels.stats.outliers_influence import variance_inflation_factor\n",
    "X = df.drop(columns=['Chance of Admit'], axis=1)\n",
    "\n",
    "vif_data = pd.DataFrame()\n",
    "vif_data[\"feature\"] = X.columns\n",
    "\n",
    "# calculating VIF for each feature \n",
    "vif_data[\"VIF\"] = [variance_inflation_factor(X.values, i) \n",
    "                          for i in range(len(X.columns))] \n",
    "print(vif_data)"
   ]
  },
  {
   "cell_type": "code",
   "execution_count": 281,
   "id": "d93a49b2",
   "metadata": {},
   "outputs": [
    {
     "data": {
      "text/html": [
       "<style type=\"text/css\">\n",
       "#T_90c0e_row0_col0, #T_90c0e_row1_col1, #T_90c0e_row2_col2, #T_90c0e_row3_col3, #T_90c0e_row4_col4, #T_90c0e_row5_col5, #T_90c0e_row6_col6, #T_90c0e_row7_col7 {\n",
       "  background-color: #b40426;\n",
       "  color: #f1f1f1;\n",
       "}\n",
       "#T_90c0e_row0_col1 {\n",
       "  background-color: #f7b99e;\n",
       "  color: #000000;\n",
       "}\n",
       "#T_90c0e_row0_col2 {\n",
       "  background-color: #aec9fc;\n",
       "  color: #000000;\n",
       "}\n",
       "#T_90c0e_row0_col3 {\n",
       "  background-color: #abc8fd;\n",
       "  color: #000000;\n",
       "}\n",
       "#T_90c0e_row0_col4 {\n",
       "  background-color: #8caffe;\n",
       "  color: #000000;\n",
       "}\n",
       "#T_90c0e_row0_col5, #T_90c0e_row5_col1 {\n",
       "  background-color: #f5c1a9;\n",
       "  color: #000000;\n",
       "}\n",
       "#T_90c0e_row0_col6, #T_90c0e_row7_col6 {\n",
       "  background-color: #96b7ff;\n",
       "  color: #000000;\n",
       "}\n",
       "#T_90c0e_row0_col7 {\n",
       "  background-color: #ecd3c5;\n",
       "  color: #000000;\n",
       "}\n",
       "#T_90c0e_row1_col0 {\n",
       "  background-color: #f4c6af;\n",
       "  color: #000000;\n",
       "}\n",
       "#T_90c0e_row1_col2 {\n",
       "  background-color: #bad0f8;\n",
       "  color: #000000;\n",
       "}\n",
       "#T_90c0e_row1_col3 {\n",
       "  background-color: #bfd3f6;\n",
       "  color: #000000;\n",
       "}\n",
       "#T_90c0e_row1_col4 {\n",
       "  background-color: #90b2fe;\n",
       "  color: #000000;\n",
       "}\n",
       "#T_90c0e_row1_col5 {\n",
       "  background-color: #f3c8b2;\n",
       "  color: #000000;\n",
       "}\n",
       "#T_90c0e_row1_col6 {\n",
       "  background-color: #688aef;\n",
       "  color: #f1f1f1;\n",
       "}\n",
       "#T_90c0e_row1_col7 {\n",
       "  background-color: #e4d9d2;\n",
       "  color: #000000;\n",
       "}\n",
       "#T_90c0e_row2_col0 {\n",
       "  background-color: #7b9ff9;\n",
       "  color: #f1f1f1;\n",
       "}\n",
       "#T_90c0e_row2_col1, #T_90c0e_row3_col1 {\n",
       "  background-color: #aac7fd;\n",
       "  color: #000000;\n",
       "}\n",
       "#T_90c0e_row2_col3, #T_90c0e_row5_col3 {\n",
       "  background-color: #e0dbd8;\n",
       "  color: #000000;\n",
       "}\n",
       "#T_90c0e_row2_col4 {\n",
       "  background-color: #b7cff9;\n",
       "  color: #000000;\n",
       "}\n",
       "#T_90c0e_row2_col5 {\n",
       "  background-color: #bed2f6;\n",
       "  color: #000000;\n",
       "}\n",
       "#T_90c0e_row2_col6 {\n",
       "  background-color: #5470de;\n",
       "  color: #f1f1f1;\n",
       "}\n",
       "#T_90c0e_row2_col7 {\n",
       "  background-color: #9ebeff;\n",
       "  color: #000000;\n",
       "}\n",
       "#T_90c0e_row3_col0 {\n",
       "  background-color: #7093f3;\n",
       "  color: #f1f1f1;\n",
       "}\n",
       "#T_90c0e_row3_col2 {\n",
       "  background-color: #dddcdc;\n",
       "  color: #000000;\n",
       "}\n",
       "#T_90c0e_row3_col4 {\n",
       "  background-color: #d3dbe7;\n",
       "  color: #000000;\n",
       "}\n",
       "#T_90c0e_row3_col5, #T_90c0e_row5_col4 {\n",
       "  background-color: #c7d7f0;\n",
       "  color: #000000;\n",
       "}\n",
       "#T_90c0e_row3_col6 {\n",
       "  background-color: #4b64d5;\n",
       "  color: #f1f1f1;\n",
       "}\n",
       "#T_90c0e_row3_col7 {\n",
       "  background-color: #9fbfff;\n",
       "  color: #000000;\n",
       "}\n",
       "#T_90c0e_row4_col0, #T_90c0e_row4_col6, #T_90c0e_row6_col1, #T_90c0e_row6_col2, #T_90c0e_row6_col3, #T_90c0e_row6_col4, #T_90c0e_row6_col5, #T_90c0e_row6_col7 {\n",
       "  background-color: #3b4cc0;\n",
       "  color: #f1f1f1;\n",
       "}\n",
       "#T_90c0e_row4_col1 {\n",
       "  background-color: #6384eb;\n",
       "  color: #f1f1f1;\n",
       "}\n",
       "#T_90c0e_row4_col2 {\n",
       "  background-color: #a3c2fe;\n",
       "  color: #000000;\n",
       "}\n",
       "#T_90c0e_row4_col3 {\n",
       "  background-color: #cad8ef;\n",
       "  color: #000000;\n",
       "}\n",
       "#T_90c0e_row4_col5 {\n",
       "  background-color: #94b6ff;\n",
       "  color: #000000;\n",
       "}\n",
       "#T_90c0e_row4_col7 {\n",
       "  background-color: #82a6fb;\n",
       "  color: #f1f1f1;\n",
       "}\n",
       "#T_90c0e_row5_col0 {\n",
       "  background-color: #f3c7b1;\n",
       "  color: #000000;\n",
       "}\n",
       "#T_90c0e_row5_col2 {\n",
       "  background-color: #d6dce4;\n",
       "  color: #000000;\n",
       "}\n",
       "#T_90c0e_row5_col6 {\n",
       "  background-color: #7da0f9;\n",
       "  color: #f1f1f1;\n",
       "}\n",
       "#T_90c0e_row5_col7 {\n",
       "  background-color: #f59d7e;\n",
       "  color: #000000;\n",
       "}\n",
       "#T_90c0e_row6_col0 {\n",
       "  background-color: #455cce;\n",
       "  color: #f1f1f1;\n",
       "}\n",
       "#T_90c0e_row7_col0 {\n",
       "  background-color: #efcfbf;\n",
       "  color: #000000;\n",
       "}\n",
       "#T_90c0e_row7_col1 {\n",
       "  background-color: #f2cbb7;\n",
       "  color: #000000;\n",
       "}\n",
       "#T_90c0e_row7_col2 {\n",
       "  background-color: #cdd9ec;\n",
       "  color: #000000;\n",
       "}\n",
       "#T_90c0e_row7_col3 {\n",
       "  background-color: #d4dbe6;\n",
       "  color: #000000;\n",
       "}\n",
       "#T_90c0e_row7_col4 {\n",
       "  background-color: #cbd8ee;\n",
       "  color: #000000;\n",
       "}\n",
       "#T_90c0e_row7_col5 {\n",
       "  background-color: #f39475;\n",
       "  color: #000000;\n",
       "}\n",
       "</style>\n",
       "<table id=\"T_90c0e\">\n",
       "  <thead>\n",
       "    <tr>\n",
       "      <th class=\"blank level0\" >&nbsp;</th>\n",
       "      <th id=\"T_90c0e_level0_col0\" class=\"col_heading level0 col0\" >GRE Score</th>\n",
       "      <th id=\"T_90c0e_level0_col1\" class=\"col_heading level0 col1\" >TOEFL Score</th>\n",
       "      <th id=\"T_90c0e_level0_col2\" class=\"col_heading level0 col2\" >University Rating</th>\n",
       "      <th id=\"T_90c0e_level0_col3\" class=\"col_heading level0 col3\" >SOP</th>\n",
       "      <th id=\"T_90c0e_level0_col4\" class=\"col_heading level0 col4\" >LOR</th>\n",
       "      <th id=\"T_90c0e_level0_col5\" class=\"col_heading level0 col5\" >CGPA</th>\n",
       "      <th id=\"T_90c0e_level0_col6\" class=\"col_heading level0 col6\" >Research</th>\n",
       "      <th id=\"T_90c0e_level0_col7\" class=\"col_heading level0 col7\" >Chance of Admit</th>\n",
       "    </tr>\n",
       "  </thead>\n",
       "  <tbody>\n",
       "    <tr>\n",
       "      <th id=\"T_90c0e_level0_row0\" class=\"row_heading level0 row0\" >GRE Score</th>\n",
       "      <td id=\"T_90c0e_row0_col0\" class=\"data row0 col0\" >1.000000</td>\n",
       "      <td id=\"T_90c0e_row0_col1\" class=\"data row0 col1\" >0.819663</td>\n",
       "      <td id=\"T_90c0e_row0_col2\" class=\"data row0 col2\" >0.623084</td>\n",
       "      <td id=\"T_90c0e_row0_col3\" class=\"data row0 col3\" >0.608372</td>\n",
       "      <td id=\"T_90c0e_row0_col4\" class=\"data row0 col4\" >0.527623</td>\n",
       "      <td id=\"T_90c0e_row0_col5\" class=\"data row0 col5\" >0.818347</td>\n",
       "      <td id=\"T_90c0e_row0_col6\" class=\"data row0 col6\" >0.544993</td>\n",
       "      <td id=\"T_90c0e_row0_col7\" class=\"data row0 col7\" >0.802304</td>\n",
       "    </tr>\n",
       "    <tr>\n",
       "      <th id=\"T_90c0e_level0_row1\" class=\"row_heading level0 row1\" >TOEFL Score</th>\n",
       "      <td id=\"T_90c0e_row1_col0\" class=\"data row1 col0\" >0.819663</td>\n",
       "      <td id=\"T_90c0e_row1_col1\" class=\"data row1 col1\" >1.000000</td>\n",
       "      <td id=\"T_90c0e_row1_col2\" class=\"data row1 col2\" >0.643555</td>\n",
       "      <td id=\"T_90c0e_row1_col3\" class=\"data row1 col3\" >0.643155</td>\n",
       "      <td id=\"T_90c0e_row1_col4\" class=\"data row1 col4\" >0.535785</td>\n",
       "      <td id=\"T_90c0e_row1_col5\" class=\"data row1 col5\" >0.805557</td>\n",
       "      <td id=\"T_90c0e_row1_col6\" class=\"data row1 col6\" >0.464913</td>\n",
       "      <td id=\"T_90c0e_row1_col7\" class=\"data row1 col7\" >0.786675</td>\n",
       "    </tr>\n",
       "    <tr>\n",
       "      <th id=\"T_90c0e_level0_row2\" class=\"row_heading level0 row2\" >University Rating</th>\n",
       "      <td id=\"T_90c0e_row2_col0\" class=\"data row2 col0\" >0.623084</td>\n",
       "      <td id=\"T_90c0e_row2_col1\" class=\"data row2 col1\" >0.643555</td>\n",
       "      <td id=\"T_90c0e_row2_col2\" class=\"data row2 col2\" >1.000000</td>\n",
       "      <td id=\"T_90c0e_row2_col3\" class=\"data row2 col3\" >0.712991</td>\n",
       "      <td id=\"T_90c0e_row2_col4\" class=\"data row2 col4\" >0.606291</td>\n",
       "      <td id=\"T_90c0e_row2_col5\" class=\"data row2 col5\" >0.696592</td>\n",
       "      <td id=\"T_90c0e_row2_col6\" class=\"data row2 col6\" >0.424429</td>\n",
       "      <td id=\"T_90c0e_row2_col7\" class=\"data row2 col7\" >0.680716</td>\n",
       "    </tr>\n",
       "    <tr>\n",
       "      <th id=\"T_90c0e_level0_row3\" class=\"row_heading level0 row3\" >SOP</th>\n",
       "      <td id=\"T_90c0e_row3_col0\" class=\"data row3 col0\" >0.608372</td>\n",
       "      <td id=\"T_90c0e_row3_col1\" class=\"data row3 col1\" >0.643155</td>\n",
       "      <td id=\"T_90c0e_row3_col2\" class=\"data row3 col2\" >0.712991</td>\n",
       "      <td id=\"T_90c0e_row3_col3\" class=\"data row3 col3\" >1.000000</td>\n",
       "      <td id=\"T_90c0e_row3_col4\" class=\"data row3 col4\" >0.663707</td>\n",
       "      <td id=\"T_90c0e_row3_col5\" class=\"data row3 col5\" >0.712154</td>\n",
       "      <td id=\"T_90c0e_row3_col6\" class=\"data row3 col6\" >0.408116</td>\n",
       "      <td id=\"T_90c0e_row3_col7\" class=\"data row3 col7\" >0.684137</td>\n",
       "    </tr>\n",
       "    <tr>\n",
       "      <th id=\"T_90c0e_level0_row4\" class=\"row_heading level0 row4\" >LOR</th>\n",
       "      <td id=\"T_90c0e_row4_col0\" class=\"data row4 col0\" >0.527623</td>\n",
       "      <td id=\"T_90c0e_row4_col1\" class=\"data row4 col1\" >0.535785</td>\n",
       "      <td id=\"T_90c0e_row4_col2\" class=\"data row4 col2\" >0.606291</td>\n",
       "      <td id=\"T_90c0e_row4_col3\" class=\"data row4 col3\" >0.663707</td>\n",
       "      <td id=\"T_90c0e_row4_col4\" class=\"data row4 col4\" >1.000000</td>\n",
       "      <td id=\"T_90c0e_row4_col5\" class=\"data row4 col5\" >0.637469</td>\n",
       "      <td id=\"T_90c0e_row4_col6\" class=\"data row4 col6\" >0.372526</td>\n",
       "      <td id=\"T_90c0e_row4_col7\" class=\"data row4 col7\" >0.645365</td>\n",
       "    </tr>\n",
       "    <tr>\n",
       "      <th id=\"T_90c0e_level0_row5\" class=\"row_heading level0 row5\" >CGPA</th>\n",
       "      <td id=\"T_90c0e_row5_col0\" class=\"data row5 col0\" >0.818347</td>\n",
       "      <td id=\"T_90c0e_row5_col1\" class=\"data row5 col1\" >0.805557</td>\n",
       "      <td id=\"T_90c0e_row5_col2\" class=\"data row5 col2\" >0.696592</td>\n",
       "      <td id=\"T_90c0e_row5_col3\" class=\"data row5 col3\" >0.712154</td>\n",
       "      <td id=\"T_90c0e_row5_col4\" class=\"data row5 col4\" >0.637469</td>\n",
       "      <td id=\"T_90c0e_row5_col5\" class=\"data row5 col5\" >1.000000</td>\n",
       "      <td id=\"T_90c0e_row5_col6\" class=\"data row5 col6\" >0.501311</td>\n",
       "      <td id=\"T_90c0e_row5_col7\" class=\"data row5 col7\" >0.882413</td>\n",
       "    </tr>\n",
       "    <tr>\n",
       "      <th id=\"T_90c0e_level0_row6\" class=\"row_heading level0 row6\" >Research</th>\n",
       "      <td id=\"T_90c0e_row6_col0\" class=\"data row6 col0\" >0.544993</td>\n",
       "      <td id=\"T_90c0e_row6_col1\" class=\"data row6 col1\" >0.464913</td>\n",
       "      <td id=\"T_90c0e_row6_col2\" class=\"data row6 col2\" >0.424429</td>\n",
       "      <td id=\"T_90c0e_row6_col3\" class=\"data row6 col3\" >0.408116</td>\n",
       "      <td id=\"T_90c0e_row6_col4\" class=\"data row6 col4\" >0.372526</td>\n",
       "      <td id=\"T_90c0e_row6_col5\" class=\"data row6 col5\" >0.501311</td>\n",
       "      <td id=\"T_90c0e_row6_col6\" class=\"data row6 col6\" >1.000000</td>\n",
       "      <td id=\"T_90c0e_row6_col7\" class=\"data row6 col7\" >0.545871</td>\n",
       "    </tr>\n",
       "    <tr>\n",
       "      <th id=\"T_90c0e_level0_row7\" class=\"row_heading level0 row7\" >Chance of Admit</th>\n",
       "      <td id=\"T_90c0e_row7_col0\" class=\"data row7 col0\" >0.802304</td>\n",
       "      <td id=\"T_90c0e_row7_col1\" class=\"data row7 col1\" >0.786675</td>\n",
       "      <td id=\"T_90c0e_row7_col2\" class=\"data row7 col2\" >0.680716</td>\n",
       "      <td id=\"T_90c0e_row7_col3\" class=\"data row7 col3\" >0.684137</td>\n",
       "      <td id=\"T_90c0e_row7_col4\" class=\"data row7 col4\" >0.645365</td>\n",
       "      <td id=\"T_90c0e_row7_col5\" class=\"data row7 col5\" >0.882413</td>\n",
       "      <td id=\"T_90c0e_row7_col6\" class=\"data row7 col6\" >0.545871</td>\n",
       "      <td id=\"T_90c0e_row7_col7\" class=\"data row7 col7\" >1.000000</td>\n",
       "    </tr>\n",
       "  </tbody>\n",
       "</table>\n"
      ],
      "text/plain": [
       "<pandas.io.formats.style.Styler at 0x1e414032190>"
      ]
     },
     "execution_count": 281,
     "metadata": {},
     "output_type": "execute_result"
    }
   ],
   "source": [
    "df.corr().style.background_gradient(cmap = 'coolwarm')"
   ]
  },
  {
   "cell_type": "code",
   "execution_count": 361,
   "id": "0c1413c1",
   "metadata": {},
   "outputs": [],
   "source": [
    "x= df.iloc[:,0:7]"
   ]
  },
  {
   "cell_type": "code",
   "execution_count": 362,
   "id": "7c91689a",
   "metadata": {},
   "outputs": [
    {
     "data": {
      "text/html": [
       "<div>\n",
       "<style scoped>\n",
       "    .dataframe tbody tr th:only-of-type {\n",
       "        vertical-align: middle;\n",
       "    }\n",
       "\n",
       "    .dataframe tbody tr th {\n",
       "        vertical-align: top;\n",
       "    }\n",
       "\n",
       "    .dataframe thead th {\n",
       "        text-align: right;\n",
       "    }\n",
       "</style>\n",
       "<table border=\"1\" class=\"dataframe\">\n",
       "  <thead>\n",
       "    <tr style=\"text-align: right;\">\n",
       "      <th></th>\n",
       "      <th>GRE Score</th>\n",
       "      <th>TOEFL Score</th>\n",
       "      <th>University Rating</th>\n",
       "      <th>SOP</th>\n",
       "      <th>LOR</th>\n",
       "      <th>CGPA</th>\n",
       "      <th>Research</th>\n",
       "    </tr>\n",
       "  </thead>\n",
       "  <tbody>\n",
       "    <tr>\n",
       "      <th>0</th>\n",
       "      <td>337.000000</td>\n",
       "      <td>118.0</td>\n",
       "      <td>4.0</td>\n",
       "      <td>4.5</td>\n",
       "      <td>4.5</td>\n",
       "      <td>9.65</td>\n",
       "      <td>1</td>\n",
       "    </tr>\n",
       "    <tr>\n",
       "      <th>1</th>\n",
       "      <td>324.000000</td>\n",
       "      <td>107.0</td>\n",
       "      <td>4.0</td>\n",
       "      <td>4.0</td>\n",
       "      <td>4.5</td>\n",
       "      <td>8.87</td>\n",
       "      <td>1</td>\n",
       "    </tr>\n",
       "    <tr>\n",
       "      <th>2</th>\n",
       "      <td>316.558763</td>\n",
       "      <td>104.0</td>\n",
       "      <td>3.0</td>\n",
       "      <td>3.0</td>\n",
       "      <td>3.5</td>\n",
       "      <td>8.00</td>\n",
       "      <td>1</td>\n",
       "    </tr>\n",
       "    <tr>\n",
       "      <th>3</th>\n",
       "      <td>322.000000</td>\n",
       "      <td>110.0</td>\n",
       "      <td>3.0</td>\n",
       "      <td>3.5</td>\n",
       "      <td>2.5</td>\n",
       "      <td>8.67</td>\n",
       "      <td>1</td>\n",
       "    </tr>\n",
       "    <tr>\n",
       "      <th>4</th>\n",
       "      <td>314.000000</td>\n",
       "      <td>103.0</td>\n",
       "      <td>2.0</td>\n",
       "      <td>2.0</td>\n",
       "      <td>3.0</td>\n",
       "      <td>8.21</td>\n",
       "      <td>0</td>\n",
       "    </tr>\n",
       "    <tr>\n",
       "      <th>...</th>\n",
       "      <td>...</td>\n",
       "      <td>...</td>\n",
       "      <td>...</td>\n",
       "      <td>...</td>\n",
       "      <td>...</td>\n",
       "      <td>...</td>\n",
       "      <td>...</td>\n",
       "    </tr>\n",
       "    <tr>\n",
       "      <th>495</th>\n",
       "      <td>332.000000</td>\n",
       "      <td>108.0</td>\n",
       "      <td>5.0</td>\n",
       "      <td>4.5</td>\n",
       "      <td>4.0</td>\n",
       "      <td>9.02</td>\n",
       "      <td>1</td>\n",
       "    </tr>\n",
       "    <tr>\n",
       "      <th>496</th>\n",
       "      <td>337.000000</td>\n",
       "      <td>117.0</td>\n",
       "      <td>5.0</td>\n",
       "      <td>5.0</td>\n",
       "      <td>5.0</td>\n",
       "      <td>9.87</td>\n",
       "      <td>1</td>\n",
       "    </tr>\n",
       "    <tr>\n",
       "      <th>497</th>\n",
       "      <td>330.000000</td>\n",
       "      <td>120.0</td>\n",
       "      <td>5.0</td>\n",
       "      <td>4.5</td>\n",
       "      <td>5.0</td>\n",
       "      <td>9.56</td>\n",
       "      <td>1</td>\n",
       "    </tr>\n",
       "    <tr>\n",
       "      <th>498</th>\n",
       "      <td>312.000000</td>\n",
       "      <td>103.0</td>\n",
       "      <td>4.0</td>\n",
       "      <td>4.0</td>\n",
       "      <td>5.0</td>\n",
       "      <td>8.43</td>\n",
       "      <td>0</td>\n",
       "    </tr>\n",
       "    <tr>\n",
       "      <th>499</th>\n",
       "      <td>327.000000</td>\n",
       "      <td>113.0</td>\n",
       "      <td>4.0</td>\n",
       "      <td>4.5</td>\n",
       "      <td>4.5</td>\n",
       "      <td>9.04</td>\n",
       "      <td>0</td>\n",
       "    </tr>\n",
       "  </tbody>\n",
       "</table>\n",
       "<p>500 rows × 7 columns</p>\n",
       "</div>"
      ],
      "text/plain": [
       "      GRE Score  TOEFL Score  University Rating  SOP  LOR  CGPA  Research\n",
       "0    337.000000        118.0                4.0  4.5  4.5  9.65         1\n",
       "1    324.000000        107.0                4.0  4.0  4.5  8.87         1\n",
       "2    316.558763        104.0                3.0  3.0  3.5  8.00         1\n",
       "3    322.000000        110.0                3.0  3.5  2.5  8.67         1\n",
       "4    314.000000        103.0                2.0  2.0  3.0  8.21         0\n",
       "..          ...          ...                ...  ...  ...   ...       ...\n",
       "495  332.000000        108.0                5.0  4.5  4.0  9.02         1\n",
       "496  337.000000        117.0                5.0  5.0  5.0  9.87         1\n",
       "497  330.000000        120.0                5.0  4.5  5.0  9.56         1\n",
       "498  312.000000        103.0                4.0  4.0  5.0  8.43         0\n",
       "499  327.000000        113.0                4.0  4.5  4.5  9.04         0\n",
       "\n",
       "[500 rows x 7 columns]"
      ]
     },
     "execution_count": 362,
     "metadata": {},
     "output_type": "execute_result"
    }
   ],
   "source": [
    "x"
   ]
  },
  {
   "cell_type": "code",
   "execution_count": 363,
   "id": "75e53c93",
   "metadata": {},
   "outputs": [],
   "source": [
    "y= df.iloc[:,-1]"
   ]
  },
  {
   "cell_type": "code",
   "execution_count": 364,
   "id": "9096a516",
   "metadata": {},
   "outputs": [],
   "source": [
    "from sklearn.preprocessing import StandardScaler\n",
    "scaler = StandardScaler()\n",
    "model = scaler.fit_transform(df)\n",
    "# scaled_data = model.transform(df)\n",
    " \n",
    "# # print scaled data\n",
    "# scaled_data"
   ]
  },
  {
   "cell_type": "code",
   "execution_count": 285,
   "id": "5ddf6bae",
   "metadata": {},
   "outputs": [],
   "source": [
    "arr = model"
   ]
  },
  {
   "cell_type": "code",
   "execution_count": 286,
   "id": "7d58e86a",
   "metadata": {},
   "outputs": [
    {
     "data": {
      "text/plain": [
       "array([1.84274116, 1.78854223, 0.77890565, 1.13735981, 1.09894429,\n",
       "       1.77680627, 0.88640526, 1.40610734])"
      ]
     },
     "execution_count": 286,
     "metadata": {},
     "output_type": "execute_result"
    }
   ],
   "source": [
    "arr[0]"
   ]
  },
  {
   "cell_type": "code",
   "execution_count": 287,
   "id": "9ac67856",
   "metadata": {},
   "outputs": [
    {
     "data": {
      "text/html": [
       "<div>\n",
       "<style scoped>\n",
       "    .dataframe tbody tr th:only-of-type {\n",
       "        vertical-align: middle;\n",
       "    }\n",
       "\n",
       "    .dataframe tbody tr th {\n",
       "        vertical-align: top;\n",
       "    }\n",
       "\n",
       "    .dataframe thead th {\n",
       "        text-align: right;\n",
       "    }\n",
       "</style>\n",
       "<table border=\"1\" class=\"dataframe\">\n",
       "  <thead>\n",
       "    <tr style=\"text-align: right;\">\n",
       "      <th></th>\n",
       "      <th>GRE Score</th>\n",
       "      <th>TOEFL Score</th>\n",
       "      <th>University Rating</th>\n",
       "      <th>SOP</th>\n",
       "      <th>LOR</th>\n",
       "      <th>CGPA</th>\n",
       "      <th>Research</th>\n",
       "    </tr>\n",
       "  </thead>\n",
       "  <tbody>\n",
       "    <tr>\n",
       "      <th>0</th>\n",
       "      <td>337.0</td>\n",
       "      <td>118.0</td>\n",
       "      <td>4.0</td>\n",
       "      <td>4.5</td>\n",
       "      <td>4.5</td>\n",
       "      <td>9.65</td>\n",
       "      <td>1</td>\n",
       "    </tr>\n",
       "  </tbody>\n",
       "</table>\n",
       "</div>"
      ],
      "text/plain": [
       "   GRE Score  TOEFL Score  University Rating  SOP  LOR  CGPA  Research\n",
       "0      337.0        118.0                4.0  4.5  4.5  9.65         1"
      ]
     },
     "execution_count": 287,
     "metadata": {},
     "output_type": "execute_result"
    }
   ],
   "source": [
    "x.head(1)"
   ]
  },
  {
   "cell_type": "code",
   "execution_count": 365,
   "id": "bc403c8c",
   "metadata": {},
   "outputs": [],
   "source": [
    "from sklearn.model_selection import train_test_split\n",
    "X_train,X_test,y_train,y_test=train_test_split(X,y,test_size=0.18,random_state=45)"
   ]
  },
  {
   "cell_type": "code",
   "execution_count": 289,
   "id": "e1d21079",
   "metadata": {},
   "outputs": [
    {
     "data": {
      "text/html": [
       "<div>\n",
       "<style scoped>\n",
       "    .dataframe tbody tr th:only-of-type {\n",
       "        vertical-align: middle;\n",
       "    }\n",
       "\n",
       "    .dataframe tbody tr th {\n",
       "        vertical-align: top;\n",
       "    }\n",
       "\n",
       "    .dataframe thead th {\n",
       "        text-align: right;\n",
       "    }\n",
       "</style>\n",
       "<table border=\"1\" class=\"dataframe\">\n",
       "  <thead>\n",
       "    <tr style=\"text-align: right;\">\n",
       "      <th></th>\n",
       "      <th>GRE Score</th>\n",
       "      <th>TOEFL Score</th>\n",
       "      <th>University Rating</th>\n",
       "      <th>SOP</th>\n",
       "      <th>LOR</th>\n",
       "      <th>CGPA</th>\n",
       "      <th>Research</th>\n",
       "    </tr>\n",
       "  </thead>\n",
       "  <tbody>\n",
       "    <tr>\n",
       "      <th>128</th>\n",
       "      <td>326.000000</td>\n",
       "      <td>112.0</td>\n",
       "      <td>3.0</td>\n",
       "      <td>3.5</td>\n",
       "      <td>3.0</td>\n",
       "      <td>9.10</td>\n",
       "      <td>1</td>\n",
       "    </tr>\n",
       "    <tr>\n",
       "      <th>448</th>\n",
       "      <td>312.000000</td>\n",
       "      <td>109.0</td>\n",
       "      <td>2.0</td>\n",
       "      <td>2.5</td>\n",
       "      <td>4.0</td>\n",
       "      <td>9.02</td>\n",
       "      <td>0</td>\n",
       "    </tr>\n",
       "    <tr>\n",
       "      <th>292</th>\n",
       "      <td>302.000000</td>\n",
       "      <td>99.0</td>\n",
       "      <td>2.0</td>\n",
       "      <td>1.0</td>\n",
       "      <td>2.0</td>\n",
       "      <td>7.97</td>\n",
       "      <td>0</td>\n",
       "    </tr>\n",
       "    <tr>\n",
       "      <th>279</th>\n",
       "      <td>316.558763</td>\n",
       "      <td>102.0</td>\n",
       "      <td>2.0</td>\n",
       "      <td>3.0</td>\n",
       "      <td>4.0</td>\n",
       "      <td>8.73</td>\n",
       "      <td>0</td>\n",
       "    </tr>\n",
       "    <tr>\n",
       "      <th>224</th>\n",
       "      <td>305.000000</td>\n",
       "      <td>105.0</td>\n",
       "      <td>2.0</td>\n",
       "      <td>3.0</td>\n",
       "      <td>2.0</td>\n",
       "      <td>8.23</td>\n",
       "      <td>0</td>\n",
       "    </tr>\n",
       "    <tr>\n",
       "      <th>...</th>\n",
       "      <td>...</td>\n",
       "      <td>...</td>\n",
       "      <td>...</td>\n",
       "      <td>...</td>\n",
       "      <td>...</td>\n",
       "      <td>...</td>\n",
       "      <td>...</td>\n",
       "    </tr>\n",
       "    <tr>\n",
       "      <th>32</th>\n",
       "      <td>338.000000</td>\n",
       "      <td>118.0</td>\n",
       "      <td>4.0</td>\n",
       "      <td>3.0</td>\n",
       "      <td>4.5</td>\n",
       "      <td>9.40</td>\n",
       "      <td>1</td>\n",
       "    </tr>\n",
       "    <tr>\n",
       "      <th>380</th>\n",
       "      <td>322.000000</td>\n",
       "      <td>104.0</td>\n",
       "      <td>3.0</td>\n",
       "      <td>3.5</td>\n",
       "      <td>4.0</td>\n",
       "      <td>8.84</td>\n",
       "      <td>1</td>\n",
       "    </tr>\n",
       "    <tr>\n",
       "      <th>131</th>\n",
       "      <td>303.000000</td>\n",
       "      <td>105.0</td>\n",
       "      <td>5.0</td>\n",
       "      <td>5.0</td>\n",
       "      <td>4.5</td>\n",
       "      <td>8.65</td>\n",
       "      <td>0</td>\n",
       "    </tr>\n",
       "    <tr>\n",
       "      <th>414</th>\n",
       "      <td>321.000000</td>\n",
       "      <td>110.0</td>\n",
       "      <td>4.0</td>\n",
       "      <td>3.5</td>\n",
       "      <td>4.0</td>\n",
       "      <td>8.35</td>\n",
       "      <td>1</td>\n",
       "    </tr>\n",
       "    <tr>\n",
       "      <th>459</th>\n",
       "      <td>329.000000</td>\n",
       "      <td>113.0</td>\n",
       "      <td>4.0</td>\n",
       "      <td>4.0</td>\n",
       "      <td>3.5</td>\n",
       "      <td>9.36</td>\n",
       "      <td>1</td>\n",
       "    </tr>\n",
       "  </tbody>\n",
       "</table>\n",
       "<p>410 rows × 7 columns</p>\n",
       "</div>"
      ],
      "text/plain": [
       "      GRE Score  TOEFL Score  University Rating  SOP  LOR  CGPA  Research\n",
       "128  326.000000        112.0                3.0  3.5  3.0  9.10         1\n",
       "448  312.000000        109.0                2.0  2.5  4.0  9.02         0\n",
       "292  302.000000         99.0                2.0  1.0  2.0  7.97         0\n",
       "279  316.558763        102.0                2.0  3.0  4.0  8.73         0\n",
       "224  305.000000        105.0                2.0  3.0  2.0  8.23         0\n",
       "..          ...          ...                ...  ...  ...   ...       ...\n",
       "32   338.000000        118.0                4.0  3.0  4.5  9.40         1\n",
       "380  322.000000        104.0                3.0  3.5  4.0  8.84         1\n",
       "131  303.000000        105.0                5.0  5.0  4.5  8.65         0\n",
       "414  321.000000        110.0                4.0  3.5  4.0  8.35         1\n",
       "459  329.000000        113.0                4.0  4.0  3.5  9.36         1\n",
       "\n",
       "[410 rows x 7 columns]"
      ]
     },
     "execution_count": 289,
     "metadata": {},
     "output_type": "execute_result"
    }
   ],
   "source": [
    "X_train"
   ]
  },
  {
   "cell_type": "code",
   "execution_count": 290,
   "id": "918deae6",
   "metadata": {},
   "outputs": [
    {
     "data": {
      "text/plain": [
       "128    0.84\n",
       "448    0.80\n",
       "292    0.56\n",
       "279    0.67\n",
       "224    0.67\n",
       "       ... \n",
       "32     0.91\n",
       "380    0.78\n",
       "131    0.77\n",
       "414    0.72\n",
       "459    0.89\n",
       "Name: Chance of Admit, Length: 410, dtype: float64"
      ]
     },
     "execution_count": 290,
     "metadata": {},
     "output_type": "execute_result"
    }
   ],
   "source": [
    "y_train"
   ]
  },
  {
   "cell_type": "code",
   "execution_count": 366,
   "id": "ad5a9aa9",
   "metadata": {},
   "outputs": [
    {
     "data": {
      "text/plain": [
       "LinearRegression()"
      ]
     },
     "execution_count": 366,
     "metadata": {},
     "output_type": "execute_result"
    }
   ],
   "source": [
    "from sklearn.linear_model import LinearRegression\n",
    "lr = LinearRegression()\n",
    "lr.fit(X_train,y_train)"
   ]
  },
  {
   "cell_type": "code",
   "execution_count": 292,
   "id": "823dcfd5",
   "metadata": {},
   "outputs": [
    {
     "data": {
      "text/plain": [
       "0.8418785060974416"
      ]
     },
     "execution_count": 292,
     "metadata": {},
     "output_type": "execute_result"
    }
   ],
   "source": [
    "lr.score(X_test,y_test)"
   ]
  },
  {
   "cell_type": "code",
   "execution_count": 293,
   "id": "428745e7",
   "metadata": {},
   "outputs": [
    {
     "data": {
      "text/plain": [
       "0.81326229161573"
      ]
     },
     "execution_count": 293,
     "metadata": {},
     "output_type": "execute_result"
    }
   ],
   "source": [
    "lr.score(X_train,y_train)"
   ]
  },
  {
   "cell_type": "code",
   "execution_count": 294,
   "id": "18b4d48e",
   "metadata": {},
   "outputs": [
    {
     "data": {
      "text/html": [
       "<div>\n",
       "<style scoped>\n",
       "    .dataframe tbody tr th:only-of-type {\n",
       "        vertical-align: middle;\n",
       "    }\n",
       "\n",
       "    .dataframe tbody tr th {\n",
       "        vertical-align: top;\n",
       "    }\n",
       "\n",
       "    .dataframe thead th {\n",
       "        text-align: right;\n",
       "    }\n",
       "</style>\n",
       "<table border=\"1\" class=\"dataframe\">\n",
       "  <thead>\n",
       "    <tr style=\"text-align: right;\">\n",
       "      <th></th>\n",
       "      <th>GRE Score</th>\n",
       "      <th>TOEFL Score</th>\n",
       "      <th>University Rating</th>\n",
       "      <th>SOP</th>\n",
       "      <th>LOR</th>\n",
       "      <th>CGPA</th>\n",
       "      <th>Research</th>\n",
       "      <th>Chance of Admit</th>\n",
       "    </tr>\n",
       "  </thead>\n",
       "  <tbody>\n",
       "    <tr>\n",
       "      <th>0</th>\n",
       "      <td>337.0</td>\n",
       "      <td>118.0</td>\n",
       "      <td>4.0</td>\n",
       "      <td>4.5</td>\n",
       "      <td>4.5</td>\n",
       "      <td>9.65</td>\n",
       "      <td>1</td>\n",
       "      <td>0.92</td>\n",
       "    </tr>\n",
       "    <tr>\n",
       "      <th>1</th>\n",
       "      <td>324.0</td>\n",
       "      <td>107.0</td>\n",
       "      <td>4.0</td>\n",
       "      <td>4.0</td>\n",
       "      <td>4.5</td>\n",
       "      <td>8.87</td>\n",
       "      <td>1</td>\n",
       "      <td>0.76</td>\n",
       "    </tr>\n",
       "  </tbody>\n",
       "</table>\n",
       "</div>"
      ],
      "text/plain": [
       "   GRE Score  TOEFL Score  University Rating  SOP  LOR  CGPA  Research  \\\n",
       "0      337.0        118.0                4.0  4.5  4.5  9.65         1   \n",
       "1      324.0        107.0                4.0  4.0  4.5  8.87         1   \n",
       "\n",
       "   Chance of Admit  \n",
       "0             0.92  \n",
       "1             0.76  "
      ]
     },
     "execution_count": 294,
     "metadata": {},
     "output_type": "execute_result"
    }
   ],
   "source": [
    "df.head(2)"
   ]
  },
  {
   "cell_type": "code",
   "execution_count": null,
   "id": "f64ee985",
   "metadata": {},
   "outputs": [],
   "source": []
  },
  {
   "cell_type": "code",
   "execution_count": 295,
   "id": "c18e9feb",
   "metadata": {},
   "outputs": [],
   "source": [
    "predict_1=scaler.fit_transform([[324,107,4,4,4.5,8.87,1]])"
   ]
  },
  {
   "cell_type": "code",
   "execution_count": 296,
   "id": "ade76e2d",
   "metadata": {},
   "outputs": [
    {
     "name": "stdout",
     "output_type": "stream",
     "text": [
      "[[0. 0. 0. 0. 0. 0. 0.]]\n"
     ]
    }
   ],
   "source": [
    "print(predict_1)"
   ]
  },
  {
   "cell_type": "code",
   "execution_count": 297,
   "id": "192be6a0",
   "metadata": {},
   "outputs": [
    {
     "data": {
      "text/plain": [
       "array([-1.22046054])"
      ]
     },
     "execution_count": 297,
     "metadata": {},
     "output_type": "execute_result"
    }
   ],
   "source": [
    "lr.predict([[0, 0 ,0, 0, 0 ,0 ,0]])"
   ]
  },
  {
   "cell_type": "code",
   "execution_count": 298,
   "id": "3781209d",
   "metadata": {},
   "outputs": [
    {
     "data": {
      "text/plain": [
       "array([0.80170451])"
      ]
     },
     "execution_count": 298,
     "metadata": {},
     "output_type": "execute_result"
    }
   ],
   "source": [
    "lr.predict([[324,107,4,4,4.5,8.87,1]])"
   ]
  },
  {
   "cell_type": "code",
   "execution_count": 299,
   "id": "3e05ecef",
   "metadata": {},
   "outputs": [
    {
     "name": "stdout",
     "output_type": "stream",
     "text": [
      "     GRE Score  TOEFL Score  University Rating  SOP  LOR  CGPA  Research\n",
      "204      298.0        105.0                3.0  3.5  4.0  8.54         0\n",
      "481      323.0        107.0                4.0  3.0  2.5  8.48         1\n",
      "296      310.0        107.0                3.0  3.5  3.5  8.67         0\n",
      "38       304.0        105.0                1.0  3.0  1.5  7.50         0\n",
      "298      330.0        114.0                3.0  4.5  4.5  9.24         1\n",
      "..         ...          ...                ...  ...  ...   ...       ...\n",
      "35       320.0        110.0                5.0  5.0  5.0  9.20         1\n",
      "25       340.0        120.0                5.0  4.5  4.5  9.60         1\n",
      "407      298.0        100.0                3.0  2.5  4.0  7.95         1\n",
      "382      324.0        110.0                4.0  4.5  4.0  9.15         1\n",
      "337      332.0        118.0                5.0  5.0  5.0  9.47         1\n",
      "\n",
      "[90 rows x 7 columns]\n"
     ]
    }
   ],
   "source": [
    "print(X_test)"
   ]
  },
  {
   "cell_type": "code",
   "execution_count": 300,
   "id": "70a47698",
   "metadata": {},
   "outputs": [
    {
     "data": {
      "text/plain": [
       "array([1.61723582])"
      ]
     },
     "execution_count": 300,
     "metadata": {},
     "output_type": "execute_result"
    }
   ],
   "source": [
    "lr.predict([[337  ,    332.0   ,     118.0   ,             5.0  ,5.0 , 5.0,  9.47]])"
   ]
  },
  {
   "cell_type": "code",
   "execution_count": 301,
   "id": "e139972c",
   "metadata": {},
   "outputs": [],
   "source": [
    "predict_2=scaler.fit_transform([[337  ,    332.0   ,     118.0   ,             5.0  ,5.0 , 5.0,  9.47]])"
   ]
  },
  {
   "cell_type": "code",
   "execution_count": 302,
   "id": "b395fbd2",
   "metadata": {},
   "outputs": [
    {
     "name": "stdout",
     "output_type": "stream",
     "text": [
      "[[0. 0. 0. 0. 0. 0. 0.]]\n"
     ]
    }
   ],
   "source": [
    "print(predict_2)"
   ]
  },
  {
   "cell_type": "code",
   "execution_count": 303,
   "id": "fea91fa2",
   "metadata": {},
   "outputs": [
    {
     "data": {
      "text/plain": [
       "array([-1.22046054])"
      ]
     },
     "execution_count": 303,
     "metadata": {},
     "output_type": "execute_result"
    }
   ],
   "source": [
    "lr.predict([[0., 0. ,0. ,0., 0., 0., 0.]])"
   ]
  },
  {
   "cell_type": "markdown",
   "id": "6aa57846",
   "metadata": {},
   "source": [
    "# Manually"
   ]
  },
  {
   "cell_type": "code",
   "execution_count": 304,
   "id": "c75654d8",
   "metadata": {},
   "outputs": [
    {
     "data": {
      "text/plain": [
       "GRE Score            316.558763\n",
       "TOEFL Score          107.187755\n",
       "University Rating      3.121649\n",
       "SOP                    3.374000\n",
       "LOR                    3.484000\n",
       "CGPA                   8.576440\n",
       "Research               0.560000\n",
       "dtype: float64"
      ]
     },
     "execution_count": 304,
     "metadata": {},
     "output_type": "execute_result"
    }
   ],
   "source": [
    "X.mean()"
   ]
  },
  {
   "cell_type": "code",
   "execution_count": 305,
   "id": "7fcee983",
   "metadata": {},
   "outputs": [
    {
     "data": {
      "text/plain": [
       "GRE Score            11.103952\n",
       "TOEFL Score           6.051338\n",
       "University Rating     1.128802\n",
       "SOP                   0.991004\n",
       "LOR                   0.925450\n",
       "CGPA                  0.604813\n",
       "Research              0.496884\n",
       "dtype: float64"
      ]
     },
     "execution_count": 305,
     "metadata": {},
     "output_type": "execute_result"
    }
   ],
   "source": [
    "X.std()"
   ]
  },
  {
   "cell_type": "code",
   "execution_count": 306,
   "id": "abbd4a2a",
   "metadata": {},
   "outputs": [
    {
     "name": "stdout",
     "output_type": "stream",
     "text": [
      "GRE Score\n",
      "TOEFL Score\n",
      "University Rating\n",
      "SOP\n",
      "LOR\n",
      "CGPA\n",
      "Research\n"
     ]
    }
   ],
   "source": [
    "for column in x.columns:\n",
    "    print(column)"
   ]
  },
  {
   "cell_type": "code",
   "execution_count": 307,
   "id": "0b707f65",
   "metadata": {},
   "outputs": [],
   "source": [
    "\n",
    "def scaler_x(k):\n",
    "    v = []\n",
    "    for column in x.columns:\n",
    "        v.append((k - X[column].mean())/X[column].std())\n",
    "        return v\n",
    "    \n"
   ]
  },
  {
   "cell_type": "code",
   "execution_count": 308,
   "id": "e6d24326",
   "metadata": {},
   "outputs": [],
   "source": [
    "l = [324.00, 107, 4.0,4.0,4.5,8.87,1]"
   ]
  },
  {
   "cell_type": "code",
   "execution_count": 309,
   "id": "29b888c6",
   "metadata": {},
   "outputs": [
    {
     "data": {
      "text/plain": [
       "[[0.6701431377254015],\n",
       " [-18.87244886280382],\n",
       " [-28.148425710981286],\n",
       " [-28.148425710981286],\n",
       " [-28.10339669715518],\n",
       " [-27.70984311631503],\n",
       " [-28.41859979393791]]"
      ]
     },
     "execution_count": 309,
     "metadata": {},
     "output_type": "execute_result"
    }
   ],
   "source": [
    "[scaler_x(k) for k in l]"
   ]
  },
  {
   "cell_type": "markdown",
   "id": "d66e37cb",
   "metadata": {},
   "source": [
    "# Ridge Regression"
   ]
  },
  {
   "cell_type": "code",
   "execution_count": 310,
   "id": "ff8dc98e",
   "metadata": {},
   "outputs": [],
   "source": [
    "from sklearn.linear_model import Ridge"
   ]
  },
  {
   "cell_type": "code",
   "execution_count": 311,
   "id": "54341e7d",
   "metadata": {},
   "outputs": [],
   "source": [
    "reg = Ridge(alpha=0.01, fit_intercept =False)"
   ]
  },
  {
   "cell_type": "code",
   "execution_count": 312,
   "id": "f54f01e0",
   "metadata": {},
   "outputs": [
    {
     "data": {
      "text/plain": [
       "Ridge(alpha=0.01, fit_intercept=False)"
      ]
     },
     "execution_count": 312,
     "metadata": {},
     "output_type": "execute_result"
    }
   ],
   "source": [
    "reg.fit(X_train,y_train)"
   ]
  },
  {
   "cell_type": "code",
   "execution_count": 313,
   "id": "07eea9c8",
   "metadata": {},
   "outputs": [
    {
     "data": {
      "text/plain": [
       "0.7748471573229976"
      ]
     },
     "execution_count": 313,
     "metadata": {},
     "output_type": "execute_result"
    }
   ],
   "source": [
    "reg.score(X_test,y_test)"
   ]
  },
  {
   "cell_type": "code",
   "execution_count": 314,
   "id": "00a007ee",
   "metadata": {},
   "outputs": [],
   "source": [
    "y_pred = reg.predict(X_test)\n"
   ]
  },
  {
   "cell_type": "code",
   "execution_count": 315,
   "id": "9ddaef96",
   "metadata": {},
   "outputs": [
    {
     "data": {
      "text/html": [
       "<div>\n",
       "<style scoped>\n",
       "    .dataframe tbody tr th:only-of-type {\n",
       "        vertical-align: middle;\n",
       "    }\n",
       "\n",
       "    .dataframe tbody tr th {\n",
       "        vertical-align: top;\n",
       "    }\n",
       "\n",
       "    .dataframe thead th {\n",
       "        text-align: right;\n",
       "    }\n",
       "</style>\n",
       "<table border=\"1\" class=\"dataframe\">\n",
       "  <thead>\n",
       "    <tr style=\"text-align: right;\">\n",
       "      <th></th>\n",
       "      <th>GRE Score</th>\n",
       "      <th>TOEFL Score</th>\n",
       "      <th>University Rating</th>\n",
       "      <th>SOP</th>\n",
       "      <th>LOR</th>\n",
       "      <th>CGPA</th>\n",
       "      <th>Research</th>\n",
       "      <th>Chance of Admit</th>\n",
       "    </tr>\n",
       "  </thead>\n",
       "  <tbody>\n",
       "    <tr>\n",
       "      <th>0</th>\n",
       "      <td>337.0</td>\n",
       "      <td>118.0</td>\n",
       "      <td>4.0</td>\n",
       "      <td>4.5</td>\n",
       "      <td>4.5</td>\n",
       "      <td>9.65</td>\n",
       "      <td>1</td>\n",
       "      <td>0.92</td>\n",
       "    </tr>\n",
       "    <tr>\n",
       "      <th>1</th>\n",
       "      <td>324.0</td>\n",
       "      <td>107.0</td>\n",
       "      <td>4.0</td>\n",
       "      <td>4.0</td>\n",
       "      <td>4.5</td>\n",
       "      <td>8.87</td>\n",
       "      <td>1</td>\n",
       "      <td>0.76</td>\n",
       "    </tr>\n",
       "  </tbody>\n",
       "</table>\n",
       "</div>"
      ],
      "text/plain": [
       "   GRE Score  TOEFL Score  University Rating  SOP  LOR  CGPA  Research  \\\n",
       "0      337.0        118.0                4.0  4.5  4.5  9.65         1   \n",
       "1      324.0        107.0                4.0  4.0  4.5  8.87         1   \n",
       "\n",
       "   Chance of Admit  \n",
       "0             0.92  \n",
       "1             0.76  "
      ]
     },
     "execution_count": 315,
     "metadata": {},
     "output_type": "execute_result"
    }
   ],
   "source": [
    "df.head(2)"
   ]
  },
  {
   "cell_type": "code",
   "execution_count": 316,
   "id": "c18482d6",
   "metadata": {},
   "outputs": [
    {
     "data": {
      "text/plain": [
       "array([0.79728641])"
      ]
     },
     "execution_count": 316,
     "metadata": {},
     "output_type": "execute_result"
    }
   ],
   "source": [
    "reg.predict([[324.0,107.0,4.0,4.0,4.5,8.87,1]])"
   ]
  },
  {
   "cell_type": "code",
   "execution_count": 317,
   "id": "8ec58efe",
   "metadata": {},
   "outputs": [
    {
     "data": {
      "text/plain": [
       "array([0.])"
      ]
     },
     "execution_count": 317,
     "metadata": {},
     "output_type": "execute_result"
    }
   ],
   "source": [
    "reg.predict(scaler.fit_transform([[324.0,107.0,4.0,4.0,4.5,8.87,1]]))"
   ]
  },
  {
   "cell_type": "markdown",
   "id": "a135405c",
   "metadata": {},
   "source": [
    "# Ridge CV"
   ]
  },
  {
   "cell_type": "code",
   "execution_count": 318,
   "id": "b3b2e3e4",
   "metadata": {},
   "outputs": [],
   "source": [
    "from sklearn.linear_model import RidgeCV,LassoCV\n",
    "import numpy as np\n",
    "ridgecv=RidgeCV(alphas=np.random.uniform(0,10,50),cv=10,normalize=True)"
   ]
  },
  {
   "cell_type": "code",
   "execution_count": 319,
   "id": "055873b2",
   "metadata": {},
   "outputs": [
    {
     "data": {
      "text/plain": [
       "RidgeCV(alphas=array([7.79686592, 1.89462975, 4.3104896 , 3.29524001, 6.26467758,\n",
       "       6.07848331, 2.65578276, 9.00598043, 7.31065278, 6.44282242,\n",
       "       4.60138794, 8.09488934, 6.84619837, 9.13625487, 3.80924321,\n",
       "       1.20864773, 5.79559244, 4.28061953, 5.10949332, 5.45003132,\n",
       "       5.09115706, 3.74033337, 0.67630225, 4.7374932 , 4.75289564,\n",
       "       4.6090175 , 6.60461259, 3.3167646 , 4.50823969, 6.05521103,\n",
       "       7.117472  , 6.39948398, 0.71662995, 9.8192041 , 3.49281936,\n",
       "       7.63473065, 4.015903  , 6.11876434, 6.33118399, 0.81466259,\n",
       "       0.46377953, 9.12006763, 8.0590689 , 7.95462615, 5.71421156,\n",
       "       0.64317555, 1.66740129, 2.15169358, 3.29618213, 8.49482519]),\n",
       "        cv=10, normalize=True)"
      ]
     },
     "execution_count": 319,
     "metadata": {},
     "output_type": "execute_result"
    }
   ],
   "source": [
    "ridgecv.fit(X_train,y_train)"
   ]
  },
  {
   "cell_type": "code",
   "execution_count": 320,
   "id": "84442016",
   "metadata": {},
   "outputs": [
    {
     "data": {
      "text/plain": [
       "0.463779526385778"
      ]
     },
     "execution_count": 320,
     "metadata": {},
     "output_type": "execute_result"
    }
   ],
   "source": [
    "ridgecv.alpha_"
   ]
  },
  {
   "cell_type": "code",
   "execution_count": 321,
   "id": "1a1d0b09",
   "metadata": {},
   "outputs": [
    {
     "data": {
      "text/plain": [
       "0.8175205154957834"
      ]
     },
     "execution_count": 321,
     "metadata": {},
     "output_type": "execute_result"
    }
   ],
   "source": [
    "ridgecv.score(X_test,y_test)"
   ]
  },
  {
   "cell_type": "markdown",
   "id": "6901600b",
   "metadata": {},
   "source": [
    "# LassoCV"
   ]
  },
  {
   "cell_type": "code",
   "execution_count": 322,
   "id": "4881d571",
   "metadata": {},
   "outputs": [],
   "source": [
    "lassocv=LassoCV(alphas=[10,1000,1,0.1,0.0000001,100],cv=20,max_iter=20000,verbose=True)"
   ]
  },
  {
   "cell_type": "code",
   "execution_count": 323,
   "id": "767b1111",
   "metadata": {},
   "outputs": [
    {
     "name": "stderr",
     "output_type": "stream",
     "text": [
      "[Parallel(n_jobs=1)]: Using backend SequentialBackend with 1 concurrent workers.\n",
      "........................................................................................................................[Parallel(n_jobs=1)]: Done  20 out of  20 | elapsed:    0.0s finished\n"
     ]
    },
    {
     "data": {
      "text/plain": [
       "LassoCV(alphas=[10, 1000, 1, 0.1, 1e-07, 100], cv=20, max_iter=20000,\n",
       "        verbose=True)"
      ]
     },
     "execution_count": 323,
     "metadata": {},
     "output_type": "execute_result"
    }
   ],
   "source": [
    "lassocv.fit(X_train,y_train)"
   ]
  },
  {
   "cell_type": "code",
   "execution_count": 324,
   "id": "99e4e4fa",
   "metadata": {},
   "outputs": [
    {
     "data": {
      "text/plain": [
       "1e-07"
      ]
     },
     "execution_count": 324,
     "metadata": {},
     "output_type": "execute_result"
    }
   ],
   "source": [
    "lassocv.alpha_"
   ]
  },
  {
   "cell_type": "code",
   "execution_count": 325,
   "id": "ece55026",
   "metadata": {},
   "outputs": [
    {
     "data": {
      "text/plain": [
       "0.8418784494645266"
      ]
     },
     "execution_count": 325,
     "metadata": {},
     "output_type": "execute_result"
    }
   ],
   "source": [
    "lassocv.score(X_test,y_test)"
   ]
  },
  {
   "cell_type": "code",
   "execution_count": 326,
   "id": "c0bb9cd7",
   "metadata": {},
   "outputs": [
    {
     "data": {
      "text/plain": [
       "ElasticNet()"
      ]
     },
     "execution_count": 326,
     "metadata": {},
     "output_type": "execute_result"
    }
   ],
   "source": [
    "from sklearn.linear_model import ElasticNet,ElasticNetCV\n",
    "el=ElasticNet()\n",
    "el.fit(X_train,y_train)"
   ]
  },
  {
   "cell_type": "code",
   "execution_count": 327,
   "id": "c9417c7f",
   "metadata": {},
   "outputs": [
    {
     "data": {
      "text/plain": [
       "ElasticNetCV(cv=14)"
      ]
     },
     "execution_count": 327,
     "metadata": {},
     "output_type": "execute_result"
    }
   ],
   "source": [
    "ecv=ElasticNetCV(cv=14)\n",
    "ecv.fit(X_train,y_train)"
   ]
  },
  {
   "cell_type": "code",
   "execution_count": 328,
   "id": "3d73de12",
   "metadata": {},
   "outputs": [
    {
     "data": {
      "text/plain": [
       "0.5566401535678152"
      ]
     },
     "execution_count": 328,
     "metadata": {},
     "output_type": "execute_result"
    }
   ],
   "source": [
    "el.score(X_test,y_test)"
   ]
  },
  {
   "cell_type": "code",
   "execution_count": 329,
   "id": "04d1c77f",
   "metadata": {},
   "outputs": [
    {
     "data": {
      "text/plain": [
       "0.840400308425652"
      ]
     },
     "execution_count": 329,
     "metadata": {},
     "output_type": "execute_result"
    }
   ],
   "source": [
    "ecv.score(X_test,y_test)"
   ]
  },
  {
   "cell_type": "code",
   "execution_count": 330,
   "id": "e3e74d1b",
   "metadata": {},
   "outputs": [],
   "source": [
    "from sklearn.model_selection import GridSearchCV\n",
    "lr=LinearRegression()"
   ]
  },
  {
   "cell_type": "code",
   "execution_count": 331,
   "id": "08c1a72a",
   "metadata": {},
   "outputs": [],
   "source": [
    "params={'alpha':[0.001,0.01,0.1,1,10]}\n",
    "ridge=Ridge()\n",
    "folds=10"
   ]
  },
  {
   "cell_type": "code",
   "execution_count": 332,
   "id": "08f0d200",
   "metadata": {},
   "outputs": [],
   "source": [
    "gcv=GridSearchCV(estimator=ridge,\n",
    "                param_grid=params,\n",
    "                cv=folds)"
   ]
  },
  {
   "cell_type": "code",
   "execution_count": 333,
   "id": "8fc690c1",
   "metadata": {},
   "outputs": [
    {
     "data": {
      "text/plain": [
       "GridSearchCV(cv=10, estimator=Ridge(),\n",
       "             param_grid={'alpha': [0.001, 0.01, 0.1, 1, 10]})"
      ]
     },
     "execution_count": 333,
     "metadata": {},
     "output_type": "execute_result"
    }
   ],
   "source": [
    "gcv.fit(X_train,y_train)"
   ]
  },
  {
   "cell_type": "code",
   "execution_count": 334,
   "id": "c5181a44",
   "metadata": {},
   "outputs": [
    {
     "data": {
      "text/plain": [
       "0.8419498287262442"
      ]
     },
     "execution_count": 334,
     "metadata": {},
     "output_type": "execute_result"
    }
   ],
   "source": [
    "gcv.score(X_test,y_test)"
   ]
  },
  {
   "cell_type": "markdown",
   "id": "a6d24976",
   "metadata": {},
   "source": [
    "# Save the model"
   ]
  },
  {
   "cell_type": "code",
   "execution_count": 367,
   "id": "0b0f1108",
   "metadata": {},
   "outputs": [],
   "source": [
    "import pickle"
   ]
  },
  {
   "cell_type": "code",
   "execution_count": 368,
   "id": "161962e6",
   "metadata": {},
   "outputs": [],
   "source": [
    "filename='lr_for_admission.pickel'\n",
    "pickle.dump(lr,open(filename,'wb'))"
   ]
  },
  {
   "cell_type": "code",
   "execution_count": 369,
   "id": "58c46ddd",
   "metadata": {},
   "outputs": [],
   "source": [
    "loaded_model = pickle.load(open('lr_for_admission.pickel','rb')) #read_book"
   ]
  },
  {
   "cell_type": "code",
   "execution_count": 370,
   "id": "398e2904",
   "metadata": {},
   "outputs": [],
   "source": [
    "sample=[[300,200,3.00,5,5,10.00,0]]"
   ]
  },
  {
   "cell_type": "code",
   "execution_count": 344,
   "id": "44d3f0c1",
   "metadata": {},
   "outputs": [
    {
     "data": {
      "text/plain": [
       "StandardScaler()"
      ]
     },
     "execution_count": 344,
     "metadata": {},
     "output_type": "execute_result"
    }
   ],
   "source": [
    "scaler.fit(x)"
   ]
  },
  {
   "cell_type": "code",
   "execution_count": 345,
   "id": "0e739fff",
   "metadata": {},
   "outputs": [
    {
     "data": {
      "text/plain": [
       "array([[-1.49274302, 15.3528357 , -0.1078766 ,  1.64240413,  1.63976333,\n",
       "         2.35607728, -1.12815215]])"
      ]
     },
     "execution_count": 345,
     "metadata": {},
     "output_type": "execute_result"
    }
   ],
   "source": [
    "scaler.transform(sample)"
   ]
  },
  {
   "cell_type": "code",
   "execution_count": 371,
   "id": "46662ae0",
   "metadata": {},
   "outputs": [
    {
     "data": {
      "text/plain": [
       "array([1.14742694])"
      ]
     },
     "execution_count": 371,
     "metadata": {},
     "output_type": "execute_result"
    }
   ],
   "source": [
    "loaded_model.predict(sample)"
   ]
  },
  {
   "cell_type": "code",
   "execution_count": 372,
   "id": "e59d0e68",
   "metadata": {},
   "outputs": [
    {
     "data": {
      "text/plain": [
       "array([-0.88081824])"
      ]
     },
     "execution_count": 372,
     "metadata": {},
     "output_type": "execute_result"
    }
   ],
   "source": [
    "loaded_model.predict([[-1.49274302, 15.3528357 , -0.1078766 ,  1.64240413,  1.63976333,\n",
    "         2.35607728, -1.12815215]])"
   ]
  },
  {
   "cell_type": "code",
   "execution_count": null,
   "id": "898bf865",
   "metadata": {},
   "outputs": [],
   "source": []
  },
  {
   "cell_type": "code",
   "execution_count": null,
   "id": "a9956a41",
   "metadata": {},
   "outputs": [],
   "source": []
  },
  {
   "cell_type": "code",
   "execution_count": null,
   "id": "53e726f4",
   "metadata": {},
   "outputs": [],
   "source": []
  },
  {
   "cell_type": "code",
   "execution_count": null,
   "id": "6fbe1a2a",
   "metadata": {},
   "outputs": [],
   "source": []
  },
  {
   "cell_type": "code",
   "execution_count": null,
   "id": "4c5e7c1c",
   "metadata": {},
   "outputs": [],
   "source": []
  },
  {
   "cell_type": "code",
   "execution_count": null,
   "id": "5d678e98",
   "metadata": {},
   "outputs": [],
   "source": []
  },
  {
   "cell_type": "code",
   "execution_count": null,
   "id": "b8af9233",
   "metadata": {},
   "outputs": [],
   "source": []
  },
  {
   "cell_type": "code",
   "execution_count": null,
   "id": "95a96d66",
   "metadata": {},
   "outputs": [],
   "source": []
  }
 ],
 "metadata": {
  "kernelspec": {
   "display_name": "Python 3 (ipykernel)",
   "language": "python",
   "name": "python3"
  },
  "language_info": {
   "codemirror_mode": {
    "name": "ipython",
    "version": 3
   },
   "file_extension": ".py",
   "mimetype": "text/x-python",
   "name": "python",
   "nbconvert_exporter": "python",
   "pygments_lexer": "ipython3",
   "version": "3.9.13"
  }
 },
 "nbformat": 4,
 "nbformat_minor": 5
}
